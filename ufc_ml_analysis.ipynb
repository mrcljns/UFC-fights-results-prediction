{
 "cells": [
  {
   "cell_type": "code",
   "execution_count": 207,
   "id": "4c4cc252",
   "metadata": {},
   "outputs": [],
   "source": [
    "from sklearn.model_selection import train_test_split\n",
    "import pandas as pd\n",
    "import numpy as np\n",
    "from sklearn.ensemble import RandomForestClassifier\n",
    "from sklearn.metrics import roc_auc_score\n",
    "from sklearn.linear_model import LogisticRegression\n",
    "from sklearn.metrics import classification_report, confusion_matrix\n",
    "from sklearn.neighbors import KNeighborsClassifier\n",
    "from sklearn.neighbors import LocalOutlierFactor\n",
    "from sklearn.utils import shuffle\n",
    "from matplotlib import pyplot\n",
    "import seaborn as sns\n",
    "from collections import Counter\n",
    "%matplotlib inline"
   ]
  },
  {
   "cell_type": "code",
   "execution_count": 181,
   "id": "ce68ea3d",
   "metadata": {},
   "outputs": [],
   "source": [
    "ufc_ml_df = pd.read_csv('ufc_ml_df.csv', sep=';')"
   ]
  },
  {
   "cell_type": "code",
   "execution_count": 182,
   "id": "a8a9f469",
   "metadata": {},
   "outputs": [
    {
     "data": {
      "text/html": [
       "<div>\n",
       "<style scoped>\n",
       "    .dataframe tbody tr th:only-of-type {\n",
       "        vertical-align: middle;\n",
       "    }\n",
       "\n",
       "    .dataframe tbody tr th {\n",
       "        vertical-align: top;\n",
       "    }\n",
       "\n",
       "    .dataframe thead th {\n",
       "        text-align: right;\n",
       "    }\n",
       "</style>\n",
       "<table border=\"1\" class=\"dataframe\">\n",
       "  <thead>\n",
       "    <tr style=\"text-align: right;\">\n",
       "      <th></th>\n",
       "      <th>win</th>\n",
       "      <th>diff_h</th>\n",
       "      <th>diff_w</th>\n",
       "      <th>diff_r</th>\n",
       "      <th>diff_byear</th>\n",
       "    </tr>\n",
       "  </thead>\n",
       "  <tbody>\n",
       "    <tr>\n",
       "      <th>count</th>\n",
       "      <td>1180.000000</td>\n",
       "      <td>1180.000000</td>\n",
       "      <td>1180.000000</td>\n",
       "      <td>1180.00000</td>\n",
       "      <td>1180.000000</td>\n",
       "    </tr>\n",
       "    <tr>\n",
       "      <th>mean</th>\n",
       "      <td>0.500000</td>\n",
       "      <td>-0.062712</td>\n",
       "      <td>-0.285593</td>\n",
       "      <td>-0.05000</td>\n",
       "      <td>-0.032064</td>\n",
       "    </tr>\n",
       "    <tr>\n",
       "      <th>std</th>\n",
       "      <td>0.500212</td>\n",
       "      <td>2.522059</td>\n",
       "      <td>7.908229</td>\n",
       "      <td>3.27196</td>\n",
       "      <td>5.228441</td>\n",
       "    </tr>\n",
       "    <tr>\n",
       "      <th>min</th>\n",
       "      <td>0.000000</td>\n",
       "      <td>-10.000000</td>\n",
       "      <td>-60.000000</td>\n",
       "      <td>-12.00000</td>\n",
       "      <td>-15.937357</td>\n",
       "    </tr>\n",
       "    <tr>\n",
       "      <th>25%</th>\n",
       "      <td>0.000000</td>\n",
       "      <td>-2.000000</td>\n",
       "      <td>0.000000</td>\n",
       "      <td>-2.00000</td>\n",
       "      <td>-3.625673</td>\n",
       "    </tr>\n",
       "    <tr>\n",
       "      <th>50%</th>\n",
       "      <td>0.500000</td>\n",
       "      <td>-0.000000</td>\n",
       "      <td>0.000000</td>\n",
       "      <td>0.00000</td>\n",
       "      <td>-0.039700</td>\n",
       "    </tr>\n",
       "    <tr>\n",
       "      <th>75%</th>\n",
       "      <td>1.000000</td>\n",
       "      <td>2.000000</td>\n",
       "      <td>0.000000</td>\n",
       "      <td>2.00000</td>\n",
       "      <td>3.482618</td>\n",
       "    </tr>\n",
       "    <tr>\n",
       "      <th>max</th>\n",
       "      <td>1.000000</td>\n",
       "      <td>12.000000</td>\n",
       "      <td>60.000000</td>\n",
       "      <td>14.00000</td>\n",
       "      <td>17.596528</td>\n",
       "    </tr>\n",
       "  </tbody>\n",
       "</table>\n",
       "</div>"
      ],
      "text/plain": [
       "               win       diff_h       diff_w      diff_r   diff_byear\n",
       "count  1180.000000  1180.000000  1180.000000  1180.00000  1180.000000\n",
       "mean      0.500000    -0.062712    -0.285593    -0.05000    -0.032064\n",
       "std       0.500212     2.522059     7.908229     3.27196     5.228441\n",
       "min       0.000000   -10.000000   -60.000000   -12.00000   -15.937357\n",
       "25%       0.000000    -2.000000     0.000000    -2.00000    -3.625673\n",
       "50%       0.500000    -0.000000     0.000000     0.00000    -0.039700\n",
       "75%       1.000000     2.000000     0.000000     2.00000     3.482618\n",
       "max       1.000000    12.000000    60.000000    14.00000    17.596528"
      ]
     },
     "execution_count": 182,
     "metadata": {},
     "output_type": "execute_result"
    }
   ],
   "source": [
    "# Descriptive statistics\n",
    "ufc_ml_df.describe()"
   ]
  },
  {
   "cell_type": "code",
   "execution_count": 183,
   "id": "3e8289e8",
   "metadata": {},
   "outputs": [
    {
     "data": {
      "text/html": [
       "<div>\n",
       "<style scoped>\n",
       "    .dataframe tbody tr th:only-of-type {\n",
       "        vertical-align: middle;\n",
       "    }\n",
       "\n",
       "    .dataframe tbody tr th {\n",
       "        vertical-align: top;\n",
       "    }\n",
       "\n",
       "    .dataframe thead th {\n",
       "        text-align: right;\n",
       "    }\n",
       "</style>\n",
       "<table border=\"1\" class=\"dataframe\">\n",
       "  <thead>\n",
       "    <tr style=\"text-align: right;\">\n",
       "      <th></th>\n",
       "      <th>win</th>\n",
       "      <th>winner</th>\n",
       "      <th>loser</th>\n",
       "      <th>diff_h</th>\n",
       "      <th>diff_w</th>\n",
       "      <th>diff_r</th>\n",
       "      <th>diff_byear</th>\n",
       "    </tr>\n",
       "  </thead>\n",
       "  <tbody>\n",
       "    <tr>\n",
       "      <th>0</th>\n",
       "      <td>1</td>\n",
       "      <td>Marlon Vera</td>\n",
       "      <td>Rob Font</td>\n",
       "      <td>0.0</td>\n",
       "      <td>0</td>\n",
       "      <td>1</td>\n",
       "      <td>-5.440221</td>\n",
       "    </tr>\n",
       "    <tr>\n",
       "      <th>1</th>\n",
       "      <td>1</td>\n",
       "      <td>Andrei Arlovski</td>\n",
       "      <td>Jake Collier</td>\n",
       "      <td>0.0</td>\n",
       "      <td>-10</td>\n",
       "      <td>1</td>\n",
       "      <td>9.722308</td>\n",
       "    </tr>\n",
       "    <tr>\n",
       "      <th>2</th>\n",
       "      <td>1</td>\n",
       "      <td>Joanderson Brito</td>\n",
       "      <td>Andre Fili</td>\n",
       "      <td>3.0</td>\n",
       "      <td>0</td>\n",
       "      <td>2</td>\n",
       "      <td>-4.632539</td>\n",
       "    </tr>\n",
       "    <tr>\n",
       "      <th>3</th>\n",
       "      <td>1</td>\n",
       "      <td>Grant Dawson</td>\n",
       "      <td>Jared Gordon</td>\n",
       "      <td>-1.0</td>\n",
       "      <td>0</td>\n",
       "      <td>-4</td>\n",
       "      <td>-5.456649</td>\n",
       "    </tr>\n",
       "    <tr>\n",
       "      <th>4</th>\n",
       "      <td>1</td>\n",
       "      <td>Darren Elkins</td>\n",
       "      <td>Tristan Connelly</td>\n",
       "      <td>0.0</td>\n",
       "      <td>0</td>\n",
       "      <td>-3</td>\n",
       "      <td>1.574297</td>\n",
       "    </tr>\n",
       "  </tbody>\n",
       "</table>\n",
       "</div>"
      ],
      "text/plain": [
       "   win            winner             loser  diff_h  diff_w  diff_r  diff_byear\n",
       "0    1       Marlon Vera          Rob Font     0.0       0       1   -5.440221\n",
       "1    1   Andrei Arlovski      Jake Collier     0.0     -10       1    9.722308\n",
       "2    1  Joanderson Brito        Andre Fili     3.0       0       2   -4.632539\n",
       "3    1      Grant Dawson      Jared Gordon    -1.0       0      -4   -5.456649\n",
       "4    1     Darren Elkins  Tristan Connelly     0.0       0      -3    1.574297"
      ]
     },
     "execution_count": 183,
     "metadata": {},
     "output_type": "execute_result"
    }
   ],
   "source": [
    "# Before shuffling\n",
    "ufc_ml_df.head()"
   ]
  },
  {
   "cell_type": "code",
   "execution_count": 184,
   "id": "10f6dab3",
   "metadata": {},
   "outputs": [],
   "source": [
    "# Shuffling the dataframe\n",
    "ufc_ml_df = shuffle(ufc_ml_df, random_state=1)"
   ]
  },
  {
   "cell_type": "code",
   "execution_count": 185,
   "id": "81a82bd2",
   "metadata": {},
   "outputs": [
    {
     "data": {
      "text/html": [
       "<div>\n",
       "<style scoped>\n",
       "    .dataframe tbody tr th:only-of-type {\n",
       "        vertical-align: middle;\n",
       "    }\n",
       "\n",
       "    .dataframe tbody tr th {\n",
       "        vertical-align: top;\n",
       "    }\n",
       "\n",
       "    .dataframe thead th {\n",
       "        text-align: right;\n",
       "    }\n",
       "</style>\n",
       "<table border=\"1\" class=\"dataframe\">\n",
       "  <thead>\n",
       "    <tr style=\"text-align: right;\">\n",
       "      <th></th>\n",
       "      <th>win</th>\n",
       "      <th>winner</th>\n",
       "      <th>loser</th>\n",
       "      <th>diff_h</th>\n",
       "      <th>diff_w</th>\n",
       "      <th>diff_r</th>\n",
       "      <th>diff_byear</th>\n",
       "    </tr>\n",
       "  </thead>\n",
       "  <tbody>\n",
       "    <tr>\n",
       "      <th>660</th>\n",
       "      <td>0</td>\n",
       "      <td>Randy Brown</td>\n",
       "      <td>Alex Oliveira</td>\n",
       "      <td>4.0</td>\n",
       "      <td>0</td>\n",
       "      <td>2</td>\n",
       "      <td>2.376503</td>\n",
       "    </tr>\n",
       "    <tr>\n",
       "      <th>548</th>\n",
       "      <td>1</td>\n",
       "      <td>Jonathan Martinez</td>\n",
       "      <td>Thomas Almeida</td>\n",
       "      <td>-1.0</td>\n",
       "      <td>10</td>\n",
       "      <td>0</td>\n",
       "      <td>-2.721480</td>\n",
       "    </tr>\n",
       "    <tr>\n",
       "      <th>1063</th>\n",
       "      <td>0</td>\n",
       "      <td>Serghei Spivac</td>\n",
       "      <td>Greg Hardy</td>\n",
       "      <td>-2.0</td>\n",
       "      <td>-5</td>\n",
       "      <td>-2</td>\n",
       "      <td>6.491578</td>\n",
       "    </tr>\n",
       "    <tr>\n",
       "      <th>321</th>\n",
       "      <td>1</td>\n",
       "      <td>Billy Quarantillo</td>\n",
       "      <td>Spike Carlyle</td>\n",
       "      <td>-2.0</td>\n",
       "      <td>0</td>\n",
       "      <td>1</td>\n",
       "      <td>4.408030</td>\n",
       "    </tr>\n",
       "    <tr>\n",
       "      <th>1055</th>\n",
       "      <td>0</td>\n",
       "      <td>Jamahal Hill</td>\n",
       "      <td>Johnny Walker</td>\n",
       "      <td>-2.0</td>\n",
       "      <td>0</td>\n",
       "      <td>-3</td>\n",
       "      <td>-0.865179</td>\n",
       "    </tr>\n",
       "  </tbody>\n",
       "</table>\n",
       "</div>"
      ],
      "text/plain": [
       "      win             winner           loser  diff_h  diff_w  diff_r  \\\n",
       "660     0        Randy Brown   Alex Oliveira     4.0       0       2   \n",
       "548     1  Jonathan Martinez  Thomas Almeida    -1.0      10       0   \n",
       "1063    0     Serghei Spivac      Greg Hardy    -2.0      -5      -2   \n",
       "321     1  Billy Quarantillo   Spike Carlyle    -2.0       0       1   \n",
       "1055    0       Jamahal Hill   Johnny Walker    -2.0       0      -3   \n",
       "\n",
       "      diff_byear  \n",
       "660     2.376503  \n",
       "548    -2.721480  \n",
       "1063    6.491578  \n",
       "321     4.408030  \n",
       "1055   -0.865179  "
      ]
     },
     "execution_count": 185,
     "metadata": {},
     "output_type": "execute_result"
    }
   ],
   "source": [
    "# After shuffling\n",
    "ufc_ml_df.head()"
   ]
  },
  {
   "cell_type": "code",
   "execution_count": 222,
   "id": "20ab3611",
   "metadata": {},
   "outputs": [
    {
     "data": {
      "text/plain": [
       "<AxesSubplot:>"
      ]
     },
     "execution_count": 222,
     "metadata": {},
     "output_type": "execute_result"
    },
    {
     "data": {
      "image/png": "[encoded data removed]",
      "text/plain": [
       "<Figure size 432x288 with 2 Axes>"
      ]
     },
     "metadata": {
      "needs_background": "light"
     },
     "output_type": "display_data"
    }
   ],
   "source": [
    "# Correlation between variables\n",
    "corrMatrix = ufc_ml_df[['win', 'diff_h', 'diff_w', 'diff_r', 'diff_byear']].corr()\n",
    "sns.heatmap(corrMatrix, annot=True,\n",
    "        xticklabels=corrMatrix.columns,\n",
    "        yticklabels=corrMatrix.columns, cmap=\"Blues\")\n",
    "# We see that height and reach are highly correlated. \n",
    "# This violates assumptions of the logistic model, so in order to fix this I will use l2 regularization."
   ]
  },
  {
   "cell_type": "code",
   "execution_count": 186,
   "id": "d8f26867",
   "metadata": {},
   "outputs": [],
   "source": [
    "# Result signifies whether the fighter won\n",
    "result = np.array(ufc_ml_df['win'])\n",
    "\n",
    "counter = Counter(result)\n",
    "\n",
    "# I won't use diff_weight, since most of the time it's equal to zero.\n",
    "# It also could be very large, since some fighters change weight divisions.\n",
    "\n",
    "ufc_df_expl = ufc_ml_df.drop(['win', 'winner', 'loser', 'diff_w'], axis=1)\n",
    "\n",
    "expl = np.array(ufc_df_expl)"
   ]
  },
  {
   "cell_type": "code",
   "execution_count": 188,
   "id": "c44f1e13",
   "metadata": {},
   "outputs": [],
   "source": [
    "# Splitting data\n",
    "train_ufc, test_ufc, train_result, test_result = train_test_split(expl, result, test_size = 0.2, random_state = 50)"
   ]
  },
  {
   "cell_type": "code",
   "execution_count": 189,
   "id": "b027ac70",
   "metadata": {},
   "outputs": [
    {
     "name": "stdout",
     "output_type": "stream",
     "text": [
      "Training UFC dataset Shape: (944, 3)\n",
      "Training Result Shape: (944,)\n",
      "Testing UFC dataset Shape: (236, 3)\n",
      "Testing Result Shape: (236,)\n"
     ]
    }
   ],
   "source": [
    "# Checking the shapes of data after splitting\n",
    "print('Training UFC dataset Shape:', train_ufc.shape)\n",
    "print('Training Result Shape:', train_result.shape)\n",
    "print('Testing UFC dataset Shape:', test_ufc.shape)\n",
    "print('Testing Result Shape:', test_result.shape)"
   ]
  },
  {
   "cell_type": "markdown",
   "id": "f3aa2da0",
   "metadata": {},
   "source": [
    "# Random Forest"
   ]
  },
  {
   "cell_type": "code",
   "execution_count": 195,
   "id": "e935e9af",
   "metadata": {},
   "outputs": [
    {
     "name": "stdout",
     "output_type": "stream",
     "text": [
      "Mean Absolute Error: 0.44\n",
      "Random Forest score:  0.5635593220338984\n",
      "ROC AUC: 0.56\n"
     ]
    }
   ],
   "source": [
    "rf = RandomForestClassifier(n_estimators=50, bootstrap = True, max_features=None)\n",
    "\n",
    "rf.fit(train_ufc, train_result)\n",
    "\n",
    "rf_predictions = rf.predict(test_ufc)\n",
    "rf_errors = abs(rf_predictions - test_result)\n",
    "\n",
    "rf_probs = rf.predict_proba(test_ufc)[:, 1]\n",
    "roc_value = roc_auc_score(test_result, rf_probs)\n",
    "\n",
    "print('Mean Absolute Error:', round(np.mean(rf_errors), 2))\n",
    "print(\"Random Forest score: \", rf.score(test_ufc, test_result))\n",
    "print('ROC AUC:', round(np.mean(roc_value), 2))"
   ]
  },
  {
   "cell_type": "code",
   "execution_count": 196,
   "id": "c7546b4b",
   "metadata": {},
   "outputs": [
    {
     "name": "stdout",
     "output_type": "stream",
     "text": [
      "              precision    recall  f1-score   support\n",
      "\n",
      "           0       0.64      0.54      0.59       136\n",
      "           1       0.49      0.59      0.53       100\n",
      "\n",
      "    accuracy                           0.56       236\n",
      "   macro avg       0.57      0.57      0.56       236\n",
      "weighted avg       0.58      0.56      0.57       236\n",
      "\n"
     ]
    }
   ],
   "source": [
    "print(classification_report(test_result, rf_predictions))"
   ]
  },
  {
   "cell_type": "code",
   "execution_count": 197,
   "id": "416ca684",
   "metadata": {},
   "outputs": [
    {
     "data": {
      "image/png": "[encoded data removed]",
      "text/plain": [
       "<Figure size 576x576 with 1 Axes>"
      ]
     },
     "metadata": {
      "needs_background": "light"
     },
     "output_type": "display_data"
    }
   ],
   "source": [
    "# Confusion matrix heat map for random forest\n",
    "cm_rf = confusion_matrix(test_result, rf_predictions)\n",
    "\n",
    "fig, ax = pyplot.subplots(figsize=(8, 8))\n",
    "ax.imshow(cm_rf)\n",
    "ax.grid(False)\n",
    "ax.set_title('Random Forest')\n",
    "ax.xaxis.set(ticks=(0, 1), ticklabels=('Predicted 0s', 'Predicted 1s'))\n",
    "ax.yaxis.set(ticks=(0, 1), ticklabels=('Actual 0s', 'Actual 1s'))\n",
    "ax.set_ylim(1.5, -0.5)\n",
    "for i in range(2):\n",
    "    for j in range(2):\n",
    "        ax.text(j, i, cm_rf[i, j], ha='center', va='center', color='red')\n",
    "pyplot.show()"
   ]
  },
  {
   "cell_type": "markdown",
   "id": "e9aee25d",
   "metadata": {},
   "source": [
    "# Logistic Regression"
   ]
  },
  {
   "cell_type": "code",
   "execution_count": 232,
   "id": "682a73d4",
   "metadata": {},
   "outputs": [
    {
     "name": "stdout",
     "output_type": "stream",
     "text": [
      "Mean Absolute Error: 0.43\n",
      "Logistic model score:  0.5720338983050848\n",
      "ROC AUC: 0.6\n"
     ]
    }
   ],
   "source": [
    "# l2 penalization is applied, because of the high correlation of variables diff_h and diff_r\n",
    "log_model = LogisticRegression(penalty = 'l2', solver='liblinear', C=10, random_state=0)\n",
    "log_model.fit(train_ufc, train_result)\n",
    "log_predictions = log_model.predict(test_ufc)\n",
    "log_errors = abs(log_predictions - test_result)\n",
    "log_probs = log_model.predict_proba(test_ufc)[:, 1]\n",
    "roc_value = roc_auc_score(test_result, log_probs)\n",
    "\n",
    "print('Mean Absolute Error:', round(np.mean(log_errors), 2))\n",
    "print(\"Logistic model score: \", log_model.score(test_ufc, test_result))\n",
    "print('ROC AUC:', round(np.mean(roc_value), 2))"
   ]
  },
  {
   "cell_type": "code",
   "execution_count": 233,
   "id": "fadf5c99",
   "metadata": {},
   "outputs": [
    {
     "name": "stdout",
     "output_type": "stream",
     "text": [
      "Coefficients\n",
      "Difference in height:  -0.015118161796267699\n",
      "Difference in reach:  -0.03509896106094533\n",
      "Difference in age:  -0.05023919518478876\n"
     ]
    }
   ],
   "source": [
    "# Based on the coefficients, relationship between features and labels is inverse. This was also seen on the correlation heatmap.\n",
    "# Surprisingly, the coefficients suggest that taller fighters with more reach are at a disadvantage. \n",
    "# The coefficient for age is reasonable as it implies that younger fighters perform better.\n",
    "print('Coefficients')\n",
    "print('Difference in height: ', log_model.coef_[0][0])\n",
    "print('Difference in reach: ', log_model.coef_[0][1])\n",
    "print('Difference in age: ', log_model.coef_[0][2])"
   ]
  },
  {
   "cell_type": "code",
   "execution_count": 200,
   "id": "40d4146f",
   "metadata": {},
   "outputs": [
    {
     "name": "stdout",
     "output_type": "stream",
     "text": [
      "              precision    recall  f1-score   support\n",
      "\n",
      "           0       0.69      0.46      0.56       136\n",
      "           1       0.50      0.72      0.59       100\n",
      "\n",
      "    accuracy                           0.57       236\n",
      "   macro avg       0.59      0.59      0.57       236\n",
      "weighted avg       0.61      0.57      0.57       236\n",
      "\n"
     ]
    }
   ],
   "source": [
    "print(classification_report(test_result, log_predictions))"
   ]
  },
  {
   "cell_type": "code",
   "execution_count": 201,
   "id": "8f821d29",
   "metadata": {},
   "outputs": [
    {
     "data": {
      "image/png": "[encoded data removed]",
      "text/plain": [
       "<Figure size 576x576 with 1 Axes>"
      ]
     },
     "metadata": {
      "needs_background": "light"
     },
     "output_type": "display_data"
    }
   ],
   "source": [
    "# Confusion matrix heat map for logistic regression\n",
    "cm_log = confusion_matrix(test_result, log_predictions)\n",
    "\n",
    "fig, ax = pyplot.subplots(figsize=(8, 8))\n",
    "ax.imshow(cm_log)\n",
    "ax.grid(False)\n",
    "ax.set_title('Logistic Regression')\n",
    "ax.xaxis.set(ticks=(0, 1), ticklabels=('Predicted 0s', 'Predicted 1s'))\n",
    "ax.yaxis.set(ticks=(0, 1), ticklabels=('Actual 0s', 'Actual 1s'))\n",
    "ax.set_ylim(1.5, -0.5)\n",
    "for i in range(2):\n",
    "    for j in range(2):\n",
    "        ax.text(j, i, cm_log[i, j], ha='center', va='center', color='red')\n",
    "pyplot.show()"
   ]
  },
  {
   "cell_type": "markdown",
   "id": "be174ac7",
   "metadata": {},
   "source": [
    "# K nearest neighbours"
   ]
  },
  {
   "cell_type": "code",
   "execution_count": 202,
   "id": "742caa94",
   "metadata": {},
   "outputs": [
    {
     "name": "stdout",
     "output_type": "stream",
     "text": [
      "Mean Absolute Error: 0.47\n",
      "K nearest neighbours score:  0.5254237288135594\n",
      "ROC AUC: 0.51\n"
     ]
    }
   ],
   "source": [
    "knn = KNeighborsClassifier(n_neighbors=10, metric='euclidean')\n",
    "knn.fit(train_ufc, train_result)\n",
    "knn_predictions = knn.predict(test_ufc)\n",
    "knn_errors = abs(knn_predictions-test_result)\n",
    "knn_probs = knn.predict_proba(test_ufc)[:, 1]\n",
    "roc_value = roc_auc_score(test_result, knn_probs)\n",
    "\n",
    "print('Mean Absolute Error:', round(np.mean(knn_errors), 2))\n",
    "print(\"K nearest neighbours score: \", knn.score(test_ufc, test_result))\n",
    "print('ROC AUC:', round(np.mean(roc_value), 2))"
   ]
  },
  {
   "cell_type": "code",
   "execution_count": 203,
   "id": "c6c18b7d",
   "metadata": {},
   "outputs": [
    {
     "name": "stdout",
     "output_type": "stream",
     "text": [
      "              precision    recall  f1-score   support\n",
      "\n",
      "           0       0.59      0.57      0.58       136\n",
      "           1       0.44      0.46      0.45       100\n",
      "\n",
      "    accuracy                           0.53       236\n",
      "   macro avg       0.52      0.52      0.52       236\n",
      "weighted avg       0.53      0.53      0.53       236\n",
      "\n"
     ]
    }
   ],
   "source": [
    "print(classification_report(test_result, knn_predictions))"
   ]
  },
  {
   "cell_type": "code",
   "execution_count": 204,
   "id": "48b2dc11",
   "metadata": {},
   "outputs": [
    {
     "data": {
      "image/png": "[encoded data removed]",
      "text/plain": [
       "<Figure size 576x576 with 1 Axes>"
      ]
     },
     "metadata": {
      "needs_background": "light"
     },
     "output_type": "display_data"
    }
   ],
   "source": [
    "# Confusion matrix heat map for k nearest neighbours method\n",
    "cm_neighbour = confusion_matrix(test_result, knn_predictions)\n",
    "\n",
    "fig, ax = pyplot.subplots(figsize=(8, 8))\n",
    "ax.imshow(cm_neighbour)\n",
    "ax.grid(False)\n",
    "ax.set_title('K nearest neighbours')\n",
    "ax.xaxis.set(ticks=(0, 1), ticklabels=('Predicted 0s', 'Predicted 1s'))\n",
    "ax.yaxis.set(ticks=(0, 1), ticklabels=('Actual 0s', 'Actual 1s'))\n",
    "ax.set_ylim(1.5, -0.5)\n",
    "for i in range(2):\n",
    "    for j in range(2):\n",
    "        ax.text(j, i, cm_neighbour[i, j], ha='center', va='center', color='red')\n",
    "pyplot.show()"
   ]
  }
 ],
 "metadata": {
  "kernelspec": {
   "display_name": "Python 3",
   "language": "python",
   "name": "python3"
  },
  "language_info": {
   "codemirror_mode": {
    "name": "ipython",
    "version": 3
   },
   "file_extension": ".py",
   "mimetype": "text/x-python",
   "name": "python",
   "nbconvert_exporter": "python",
   "pygments_lexer": "ipython3",
   "version": "3.8.8"
  }
 },
 "nbformat": 4,
 "nbformat_minor": 5
}
