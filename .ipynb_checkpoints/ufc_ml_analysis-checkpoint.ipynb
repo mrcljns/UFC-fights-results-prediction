{
 "cells": [
  {
   "cell_type": "code",
   "execution_count": 191,
   "id": "4c4cc252",
   "metadata": {},
   "outputs": [],
   "source": [
    "import pandas as pd\n",
    "import numpy as np\n",
    "\n",
    "# Machine Learning libraries\n",
    "# Sklearn models\n",
    "from sklearn.ensemble import RandomForestClassifier\n",
    "from sklearn.linear_model import LogisticRegression\n",
    "from sklearn.neighbors import KNeighborsClassifier\n",
    "# Other sklearn functions\n",
    "from sklearn.model_selection import train_test_split\n",
    "from sklearn.metrics import roc_auc_score\n",
    "from sklearn.metrics import classification_report, confusion_matrix\n",
    "from sklearn.model_selection import KFold\n",
    "from sklearn.model_selection import GridSearchCV\n",
    "from sklearn.pipeline import make_pipeline\n",
    "from sklearn.preprocessing import StandardScaler\n",
    "# XGBoost\n",
    "import xgboost as xgb\n",
    "from xgboost import XGBClassifier\n",
    "from xgboost import cv\n",
    "\n",
    "# Visualization\n",
    "from matplotlib import pyplot as plt\n",
    "from xgboost import plot_importance\n",
    "import seaborn as sns\n",
    "\n",
    "# For displaying graphs next to code\n",
    "%matplotlib inline"
   ]
  },
  {
   "cell_type": "code",
   "execution_count": 192,
   "id": "ce68ea3d",
   "metadata": {},
   "outputs": [],
   "source": [
    "ufc_ml_df = pd.read_csv('ufc_ml_df.csv', sep=';')"
   ]
  },
  {
   "cell_type": "code",
   "execution_count": 193,
   "id": "a8a9f469",
   "metadata": {},
   "outputs": [
    {
     "data": {
      "text/html": [
       "<div>\n",
       "<style scoped>\n",
       "    .dataframe tbody tr th:only-of-type {\n",
       "        vertical-align: middle;\n",
       "    }\n",
       "\n",
       "    .dataframe tbody tr th {\n",
       "        vertical-align: top;\n",
       "    }\n",
       "\n",
       "    .dataframe thead th {\n",
       "        text-align: right;\n",
       "    }\n",
       "</style>\n",
       "<table border=\"1\" class=\"dataframe\">\n",
       "  <thead>\n",
       "    <tr style=\"text-align: right;\">\n",
       "      <th></th>\n",
       "      <th>win</th>\n",
       "      <th>diff_h</th>\n",
       "      <th>diff_w</th>\n",
       "      <th>diff_r</th>\n",
       "      <th>diff_byear</th>\n",
       "    </tr>\n",
       "  </thead>\n",
       "  <tbody>\n",
       "    <tr>\n",
       "      <th>count</th>\n",
       "      <td>1180.000000</td>\n",
       "      <td>1180.000000</td>\n",
       "      <td>1180.000000</td>\n",
       "      <td>1180.00000</td>\n",
       "      <td>1180.000000</td>\n",
       "    </tr>\n",
       "    <tr>\n",
       "      <th>mean</th>\n",
       "      <td>0.500000</td>\n",
       "      <td>-0.062712</td>\n",
       "      <td>-0.285593</td>\n",
       "      <td>-0.05000</td>\n",
       "      <td>-0.032064</td>\n",
       "    </tr>\n",
       "    <tr>\n",
       "      <th>std</th>\n",
       "      <td>0.500212</td>\n",
       "      <td>2.522059</td>\n",
       "      <td>7.908229</td>\n",
       "      <td>3.27196</td>\n",
       "      <td>5.228441</td>\n",
       "    </tr>\n",
       "    <tr>\n",
       "      <th>min</th>\n",
       "      <td>0.000000</td>\n",
       "      <td>-10.000000</td>\n",
       "      <td>-60.000000</td>\n",
       "      <td>-12.00000</td>\n",
       "      <td>-15.937357</td>\n",
       "    </tr>\n",
       "    <tr>\n",
       "      <th>25%</th>\n",
       "      <td>0.000000</td>\n",
       "      <td>-2.000000</td>\n",
       "      <td>0.000000</td>\n",
       "      <td>-2.00000</td>\n",
       "      <td>-3.625673</td>\n",
       "    </tr>\n",
       "    <tr>\n",
       "      <th>50%</th>\n",
       "      <td>0.500000</td>\n",
       "      <td>-0.000000</td>\n",
       "      <td>0.000000</td>\n",
       "      <td>0.00000</td>\n",
       "      <td>-0.039700</td>\n",
       "    </tr>\n",
       "    <tr>\n",
       "      <th>75%</th>\n",
       "      <td>1.000000</td>\n",
       "      <td>2.000000</td>\n",
       "      <td>0.000000</td>\n",
       "      <td>2.00000</td>\n",
       "      <td>3.482618</td>\n",
       "    </tr>\n",
       "    <tr>\n",
       "      <th>max</th>\n",
       "      <td>1.000000</td>\n",
       "      <td>12.000000</td>\n",
       "      <td>60.000000</td>\n",
       "      <td>14.00000</td>\n",
       "      <td>17.596528</td>\n",
       "    </tr>\n",
       "  </tbody>\n",
       "</table>\n",
       "</div>"
      ],
      "text/plain": [
       "               win       diff_h       diff_w      diff_r   diff_byear\n",
       "count  1180.000000  1180.000000  1180.000000  1180.00000  1180.000000\n",
       "mean      0.500000    -0.062712    -0.285593    -0.05000    -0.032064\n",
       "std       0.500212     2.522059     7.908229     3.27196     5.228441\n",
       "min       0.000000   -10.000000   -60.000000   -12.00000   -15.937357\n",
       "25%       0.000000    -2.000000     0.000000    -2.00000    -3.625673\n",
       "50%       0.500000    -0.000000     0.000000     0.00000    -0.039700\n",
       "75%       1.000000     2.000000     0.000000     2.00000     3.482618\n",
       "max       1.000000    12.000000    60.000000    14.00000    17.596528"
      ]
     },
     "execution_count": 193,
     "metadata": {},
     "output_type": "execute_result"
    }
   ],
   "source": [
    "# Descriptive statistics\n",
    "ufc_ml_df.describe()"
   ]
  },
  {
   "cell_type": "code",
   "execution_count": 194,
   "id": "3e8289e8",
   "metadata": {},
   "outputs": [
    {
     "data": {
      "text/html": [
       "<div>\n",
       "<style scoped>\n",
       "    .dataframe tbody tr th:only-of-type {\n",
       "        vertical-align: middle;\n",
       "    }\n",
       "\n",
       "    .dataframe tbody tr th {\n",
       "        vertical-align: top;\n",
       "    }\n",
       "\n",
       "    .dataframe thead th {\n",
       "        text-align: right;\n",
       "    }\n",
       "</style>\n",
       "<table border=\"1\" class=\"dataframe\">\n",
       "  <thead>\n",
       "    <tr style=\"text-align: right;\">\n",
       "      <th></th>\n",
       "      <th>win</th>\n",
       "      <th>winner</th>\n",
       "      <th>loser</th>\n",
       "      <th>diff_h</th>\n",
       "      <th>diff_w</th>\n",
       "      <th>diff_r</th>\n",
       "      <th>diff_byear</th>\n",
       "    </tr>\n",
       "  </thead>\n",
       "  <tbody>\n",
       "    <tr>\n",
       "      <th>0</th>\n",
       "      <td>1</td>\n",
       "      <td>Marlon Vera</td>\n",
       "      <td>Rob Font</td>\n",
       "      <td>0.0</td>\n",
       "      <td>0</td>\n",
       "      <td>1</td>\n",
       "      <td>-5.440221</td>\n",
       "    </tr>\n",
       "    <tr>\n",
       "      <th>1</th>\n",
       "      <td>1</td>\n",
       "      <td>Andrei Arlovski</td>\n",
       "      <td>Jake Collier</td>\n",
       "      <td>0.0</td>\n",
       "      <td>-10</td>\n",
       "      <td>1</td>\n",
       "      <td>9.722308</td>\n",
       "    </tr>\n",
       "    <tr>\n",
       "      <th>2</th>\n",
       "      <td>1</td>\n",
       "      <td>Joanderson Brito</td>\n",
       "      <td>Andre Fili</td>\n",
       "      <td>3.0</td>\n",
       "      <td>0</td>\n",
       "      <td>2</td>\n",
       "      <td>-4.632539</td>\n",
       "    </tr>\n",
       "    <tr>\n",
       "      <th>3</th>\n",
       "      <td>1</td>\n",
       "      <td>Grant Dawson</td>\n",
       "      <td>Jared Gordon</td>\n",
       "      <td>-1.0</td>\n",
       "      <td>0</td>\n",
       "      <td>-4</td>\n",
       "      <td>-5.456649</td>\n",
       "    </tr>\n",
       "    <tr>\n",
       "      <th>4</th>\n",
       "      <td>1</td>\n",
       "      <td>Darren Elkins</td>\n",
       "      <td>Tristan Connelly</td>\n",
       "      <td>0.0</td>\n",
       "      <td>0</td>\n",
       "      <td>-3</td>\n",
       "      <td>1.574297</td>\n",
       "    </tr>\n",
       "  </tbody>\n",
       "</table>\n",
       "</div>"
      ],
      "text/plain": [
       "   win            winner             loser  diff_h  diff_w  diff_r  diff_byear\n",
       "0    1       Marlon Vera          Rob Font     0.0       0       1   -5.440221\n",
       "1    1   Andrei Arlovski      Jake Collier     0.0     -10       1    9.722308\n",
       "2    1  Joanderson Brito        Andre Fili     3.0       0       2   -4.632539\n",
       "3    1      Grant Dawson      Jared Gordon    -1.0       0      -4   -5.456649\n",
       "4    1     Darren Elkins  Tristan Connelly     0.0       0      -3    1.574297"
      ]
     },
     "execution_count": 194,
     "metadata": {},
     "output_type": "execute_result"
    }
   ],
   "source": [
    "ufc_ml_df.head()"
   ]
  },
  {
   "cell_type": "code",
   "execution_count": 195,
   "id": "20ab3611",
   "metadata": {},
   "outputs": [
    {
     "data": {
      "text/plain": [
       "<AxesSubplot:>"
      ]
     },
     "execution_count": 195,
     "metadata": {},
     "output_type": "execute_result"
    },
    {
     "data": {
      "image/png": "[encoded data removed]",
      "text/plain": [
       "<Figure size 432x288 with 2 Axes>"
      ]
     },
     "metadata": {
      "needs_background": "light"
     },
     "output_type": "display_data"
    }
   ],
   "source": [
    "# Correlation between variables\n",
    "corrMatrix = ufc_ml_df[['win', 'diff_h', 'diff_w', 'diff_r', 'diff_byear']].corr()\n",
    "sns.heatmap(corrMatrix, annot=True,\n",
    "        xticklabels=corrMatrix.columns,\n",
    "        yticklabels=corrMatrix.columns, cmap=\"Blues\")\n",
    "# We see that height and reach are highly correlated. \n",
    "# This violates assumptions of the logistic model, so in order to fix this I will use l2 regularization."
   ]
  },
  {
   "cell_type": "code",
   "execution_count": 196,
   "id": "d8f26867",
   "metadata": {},
   "outputs": [],
   "source": [
    "# Result signifies whether the fighter has won\n",
    "result = np.array(ufc_ml_df['win'])\n",
    "\n",
    "# I won't use diff_weight, since most of the time it's equal to zero.\n",
    "# It also could be very large, since some fighters change weight divisions.\n",
    "ufc_df_expl = ufc_ml_df.drop(['win', 'winner', 'loser', 'diff_w'], axis=1)\n",
    "feature_names = ufc_df_expl.columns\n",
    "\n",
    "expl = np.array(ufc_df_expl)"
   ]
  },
  {
   "cell_type": "code",
   "execution_count": 197,
   "id": "c44f1e13",
   "metadata": {},
   "outputs": [],
   "source": [
    "# Splitting data into train and test\n",
    "# No need to shuffle beforehand as that's done by default when using train_test_split\n",
    "train_ufc, test_ufc, train_result, test_result = train_test_split(expl, result, test_size = 0.2, random_state = 1)"
   ]
  },
  {
   "cell_type": "code",
   "execution_count": 198,
   "id": "b027ac70",
   "metadata": {},
   "outputs": [
    {
     "name": "stdout",
     "output_type": "stream",
     "text": [
      "Training UFC dataset Shape: (944, 3)\n",
      "Training Result Shape: (944,)\n",
      "Testing UFC dataset Shape: (236, 3)\n",
      "Testing Result Shape: (236,)\n"
     ]
    }
   ],
   "source": [
    "# Checking the shapes of data after splitting\n",
    "print('Training UFC dataset Shape:', train_ufc.shape)\n",
    "print('Training Result Shape:', train_result.shape)\n",
    "print('Testing UFC dataset Shape:', test_ufc.shape)\n",
    "print('Testing Result Shape:', test_result.shape)"
   ]
  },
  {
   "cell_type": "code",
   "execution_count": 199,
   "id": "afb2d7ad",
   "metadata": {},
   "outputs": [],
   "source": [
    "# Useful function for performing the grid search on multiple models\n",
    "kfold = KFold(n_splits=8)\n",
    "\n",
    "def grid_search(train_features, train_target, model, parameters, kfold):\n",
    "    grid = GridSearchCV(model, param_grid=parameters, cv=kfold, scoring='roc_auc')\n",
    "    grid.fit(train_features, train_target)\n",
    "    \n",
    "    print(\"Best parameters: \", grid.best_params_)\n",
    "    print(\"Score of the best model: \", grid.best_score_)\n",
    "    \n",
    "    return grid.best_estimator_"
   ]
  },
  {
   "cell_type": "markdown",
   "id": "f3aa2da0",
   "metadata": {},
   "source": [
    "# Random Forest"
   ]
  },
  {
   "cell_type": "code",
   "execution_count": 200,
   "id": "c4803496",
   "metadata": {},
   "outputs": [
    {
     "name": "stdout",
     "output_type": "stream",
     "text": [
      "Best parameters:  {'max_depth': 50, 'min_samples_split': 10, 'n_estimators': 500}\n",
      "Score of the best model:  0.5309894713142982\n"
     ]
    }
   ],
   "source": [
    "rf_params = {'n_estimators': [100, 500, 1000], 'max_depth': [50, 75, 100], 'min_samples_split': [10]}\n",
    "\n",
    "rf = grid_search(train_ufc, train_result, RandomForestClassifier(random_state=1), rf_params, kfold)"
   ]
  },
  {
   "cell_type": "code",
   "execution_count": 201,
   "id": "e935e9af",
   "metadata": {},
   "outputs": [
    {
     "name": "stdout",
     "output_type": "stream",
     "text": [
      "Mean Absolute Error: 0.48\n",
      "Random Forest score:  0.5169491525423728\n",
      "ROC AUC: 0.53\n"
     ]
    }
   ],
   "source": [
    "rf.fit(train_ufc, train_result)\n",
    "\n",
    "rf_predictions = rf.predict(test_ufc)\n",
    "rf_errors = abs(rf_predictions - test_result)\n",
    "\n",
    "rf_probs = rf.predict_proba(test_ufc)[:, 1]\n",
    "roc_value = roc_auc_score(test_result, rf_probs)\n",
    "\n",
    "print('Mean Absolute Error:', round(np.mean(rf_errors), 2))\n",
    "print(\"Random Forest score: \", rf.score(test_ufc, test_result))\n",
    "print('ROC AUC:', round(np.mean(roc_value), 2))"
   ]
  },
  {
   "cell_type": "code",
   "execution_count": 202,
   "id": "c7546b4b",
   "metadata": {},
   "outputs": [
    {
     "name": "stdout",
     "output_type": "stream",
     "text": [
      "              precision    recall  f1-score   support\n",
      "\n",
      "           0       0.47      0.50      0.49       108\n",
      "           1       0.56      0.53      0.54       128\n",
      "\n",
      "    accuracy                           0.52       236\n",
      "   macro avg       0.52      0.52      0.52       236\n",
      "weighted avg       0.52      0.52      0.52       236\n",
      "\n"
     ]
    }
   ],
   "source": [
    "print(classification_report(test_result, rf_predictions))"
   ]
  },
  {
   "cell_type": "code",
   "execution_count": 203,
   "id": "416ca684",
   "metadata": {},
   "outputs": [
    {
     "data": {
      "image/png": "[encoded data removed]",
      "text/plain": [
       "<Figure size 576x576 with 1 Axes>"
      ]
     },
     "metadata": {
      "needs_background": "light"
     },
     "output_type": "display_data"
    }
   ],
   "source": [
    "# Confusion matrix heat map for random forest\n",
    "cm_rf = confusion_matrix(test_result, rf_predictions)\n",
    "\n",
    "fig, ax = plt.subplots(figsize=(8, 8))\n",
    "ax.imshow(cm_rf)\n",
    "ax.grid(False)\n",
    "ax.set_title('Random Forest')\n",
    "ax.xaxis.set(ticks=(0, 1), ticklabels=('Predicted 0s', 'Predicted 1s'))\n",
    "ax.yaxis.set(ticks=(0, 1), ticklabels=('Actual 0s', 'Actual 1s'))\n",
    "ax.set_ylim(1.5, -0.5)\n",
    "for i in range(2):\n",
    "    for j in range(2):\n",
    "        ax.text(j, i, cm_rf[i, j], ha='center', va='center', color='red')\n",
    "plt.show()"
   ]
  },
  {
   "cell_type": "markdown",
   "id": "e9aee25d",
   "metadata": {},
   "source": [
    "# Logistic Regression"
   ]
  },
  {
   "cell_type": "code",
   "execution_count": 204,
   "id": "f722863b",
   "metadata": {},
   "outputs": [
    {
     "name": "stdout",
     "output_type": "stream",
     "text": [
      "Best parameters:  {'logistic__C': 0.1, 'logistic__class_weight': 'balanced', 'logistic__penalty': 'l1', 'logistic__solver': 'liblinear'}\n",
      "Score of the best model:  0.5778871338290741\n"
     ]
    }
   ],
   "source": [
    "# The data should be scaled before using logistic regression with regularization\n",
    "log_pipe = Pipeline(steps=[('scaler', StandardScaler()), ('logistic', LogisticRegression(random_state=1))])\n",
    "\n",
    "log_params = {'logistic__penalty': ['l1', 'l2'], 'logistic__C': [0.01, 0.1, 1], 'logistic__solver': ['liblinear'], \n",
    "              'logistic__class_weight': ['balanced']}\n",
    "\n",
    "log_model = grid_search(train_ufc, train_result, log_pipe, log_params, kfold)"
   ]
  },
  {
   "cell_type": "code",
   "execution_count": 205,
   "id": "682a73d4",
   "metadata": {},
   "outputs": [
    {
     "name": "stdout",
     "output_type": "stream",
     "text": [
      "Mean Absolute Error: 0.44\n",
      "Logistic model score:  0.5550847457627118\n",
      "ROC AUC: 0.58\n"
     ]
    }
   ],
   "source": [
    "log_model.fit(train_ufc, train_result)\n",
    "log_predictions = log_model.predict(test_ufc)\n",
    "log_errors = abs(log_predictions - test_result)\n",
    "log_probs = log_model.predict_proba(test_ufc)[:, 1]\n",
    "roc_value = roc_auc_score(test_result, log_probs)\n",
    "\n",
    "print('Mean Absolute Error:', round(np.mean(log_errors), 2))\n",
    "print(\"Logistic model score: \", log_model.score(test_ufc, test_result))\n",
    "print('ROC AUC:', round(np.mean(roc_value), 2))"
   ]
  },
  {
   "cell_type": "code",
   "execution_count": 206,
   "id": "fadf5c99",
   "metadata": {},
   "outputs": [
    {
     "name": "stdout",
     "output_type": "stream",
     "text": [
      "Coefficients\n",
      "Difference in height:  0.0\n",
      "Difference in reach:  -0.12172674166684298\n",
      "Difference in age:  -0.1980835951917099\n"
     ]
    }
   ],
   "source": [
    "print('Coefficients')\n",
    "print('Difference in height: ', log_model['logistic'].coef_[0][0])\n",
    "print('Difference in reach: ', log_model['logistic'].coef_[0][1])\n",
    "print('Difference in age: ', log_model['logistic'].coef_[0][2])"
   ]
  },
  {
   "cell_type": "code",
   "execution_count": 207,
   "id": "40d4146f",
   "metadata": {},
   "outputs": [
    {
     "name": "stdout",
     "output_type": "stream",
     "text": [
      "              precision    recall  f1-score   support\n",
      "\n",
      "           0       0.51      0.56      0.53       108\n",
      "           1       0.60      0.55      0.57       128\n",
      "\n",
      "    accuracy                           0.56       236\n",
      "   macro avg       0.55      0.56      0.55       236\n",
      "weighted avg       0.56      0.56      0.56       236\n",
      "\n"
     ]
    }
   ],
   "source": [
    "print(classification_report(test_result, log_predictions))"
   ]
  },
  {
   "cell_type": "code",
   "execution_count": 208,
   "id": "8f821d29",
   "metadata": {},
   "outputs": [
    {
     "data": {
      "image/png": "[encoded data removed]",
      "text/plain": [
       "<Figure size 576x576 with 1 Axes>"
      ]
     },
     "metadata": {
      "needs_background": "light"
     },
     "output_type": "display_data"
    }
   ],
   "source": [
    "# Confusion matrix heat map for logistic regression\n",
    "cm_log = confusion_matrix(test_result, log_predictions)\n",
    "\n",
    "fig, ax = plt.subplots(figsize=(8, 8))\n",
    "ax.imshow(cm_log)\n",
    "ax.grid(False)\n",
    "ax.set_title('Logistic Regression')\n",
    "ax.xaxis.set(ticks=(0, 1), ticklabels=('Predicted 0s', 'Predicted 1s'))\n",
    "ax.yaxis.set(ticks=(0, 1), ticklabels=('Actual 0s', 'Actual 1s'))\n",
    "ax.set_ylim(1.5, -0.5)\n",
    "for i in range(2):\n",
    "    for j in range(2):\n",
    "        ax.text(j, i, cm_log[i, j], ha='center', va='center', color='red')\n",
    "plt.show()"
   ]
  },
  {
   "cell_type": "markdown",
   "id": "be174ac7",
   "metadata": {},
   "source": [
    "# K nearest neighbours"
   ]
  },
  {
   "cell_type": "code",
   "execution_count": 209,
   "id": "a358c781",
   "metadata": {},
   "outputs": [
    {
     "name": "stdout",
     "output_type": "stream",
     "text": [
      "Best parameters:  {'knn__metric': 'euclidean', 'knn__n_neighbors': 12}\n",
      "Score of the best model:  0.5334774313690713\n"
     ]
    }
   ],
   "source": [
    "# Same as in the case of logistic regression - data should be scaled\n",
    "knn_pipe = Pipeline(steps=[('scaler', StandardScaler()), ('knn', KNeighborsClassifier())])\n",
    "\n",
    "knn_params = {'knn__n_neighbors': [5, 8, 10, 12], 'knn__metric': ['euclidean']}\n",
    "\n",
    "knn = grid_search(train_ufc, train_result, knn_pipe, knn_params, kfold)"
   ]
  },
  {
   "cell_type": "code",
   "execution_count": 210,
   "id": "742caa94",
   "metadata": {},
   "outputs": [
    {
     "name": "stdout",
     "output_type": "stream",
     "text": [
      "Mean Absolute Error: 0.5\n",
      "K nearest neighbours score:  0.4957627118644068\n",
      "ROC AUC: 0.54\n"
     ]
    }
   ],
   "source": [
    "knn.fit(train_ufc, train_result)\n",
    "knn_predictions = knn.predict(test_ufc)\n",
    "knn_errors = abs(knn_predictions-test_result)\n",
    "knn_probs = knn.predict_proba(test_ufc)[:, 1]\n",
    "roc_value = roc_auc_score(test_result, knn_probs)\n",
    "\n",
    "print('Mean Absolute Error:', round(np.mean(knn_errors), 2))\n",
    "print(\"K nearest neighbours score: \", knn.score(test_ufc, test_result))\n",
    "print('ROC AUC:', round(np.mean(roc_value), 2))"
   ]
  },
  {
   "cell_type": "code",
   "execution_count": 211,
   "id": "c6c18b7d",
   "metadata": {},
   "outputs": [
    {
     "name": "stdout",
     "output_type": "stream",
     "text": [
      "              precision    recall  f1-score   support\n",
      "\n",
      "           0       0.46      0.62      0.53       108\n",
      "           1       0.55      0.39      0.46       128\n",
      "\n",
      "    accuracy                           0.50       236\n",
      "   macro avg       0.51      0.51      0.49       236\n",
      "weighted avg       0.51      0.50      0.49       236\n",
      "\n"
     ]
    }
   ],
   "source": [
    "print(classification_report(test_result, knn_predictions))"
   ]
  },
  {
   "cell_type": "code",
   "execution_count": 212,
   "id": "48b2dc11",
   "metadata": {},
   "outputs": [
    {
     "data": {
      "image/png": "[encoded data removed]",
      "text/plain": [
       "<Figure size 576x576 with 1 Axes>"
      ]
     },
     "metadata": {
      "needs_background": "light"
     },
     "output_type": "display_data"
    }
   ],
   "source": [
    "# Confusion matrix heat map for k nearest neighbours method\n",
    "cm_neighbour = confusion_matrix(test_result, knn_predictions)\n",
    "\n",
    "fig, ax = plt.subplots(figsize=(8, 8))\n",
    "ax.imshow(cm_neighbour)\n",
    "ax.grid(False)\n",
    "ax.set_title('K nearest neighbours')\n",
    "ax.xaxis.set(ticks=(0, 1), ticklabels=('Predicted 0s', 'Predicted 1s'))\n",
    "ax.yaxis.set(ticks=(0, 1), ticklabels=('Actual 0s', 'Actual 1s'))\n",
    "ax.set_ylim(1.5, -0.5)\n",
    "for i in range(2):\n",
    "    for j in range(2):\n",
    "        ax.text(j, i, cm_neighbour[i, j], ha='center', va='center', color='red')\n",
    "plt.show()"
   ]
  },
  {
   "cell_type": "markdown",
   "id": "09a2cb38",
   "metadata": {},
   "source": [
    "# XGBClassifier"
   ]
  },
  {
   "cell_type": "code",
   "execution_count": 213,
   "id": "80da7ab0",
   "metadata": {},
   "outputs": [
    {
     "name": "stdout",
     "output_type": "stream",
     "text": [
      "Best parameters:  {'alpha': 10, 'learning_rate': 0.01, 'max_depth': 5, 'n_estimators': 100, 'objective': 'binary:logistic'}\n",
      "Score of the best model:  0.5975268503147685\n"
     ]
    }
   ],
   "source": [
    "xgb_params = {'learning_rate': [0.01, 0.05, 0.1, 1], 'n_estimators': [100, 500, 1000], 'max_depth': [3, 5, 8],\n",
    "              'objective': ['binary:logistic'], 'alpha': [0, 1, 10]}\n",
    "\n",
    "xgb_clf = grid_search(train_ufc, train_result, XGBClassifier(), xgb_params, kfold)"
   ]
  },
  {
   "cell_type": "code",
   "execution_count": 232,
   "id": "6bcbe02e",
   "metadata": {},
   "outputs": [
    {
     "data": {
      "text/html": [
       "<div>\n",
       "<style scoped>\n",
       "    .dataframe tbody tr th:only-of-type {\n",
       "        vertical-align: middle;\n",
       "    }\n",
       "\n",
       "    .dataframe tbody tr th {\n",
       "        vertical-align: top;\n",
       "    }\n",
       "\n",
       "    .dataframe thead th {\n",
       "        text-align: right;\n",
       "    }\n",
       "</style>\n",
       "<table border=\"1\" class=\"dataframe\">\n",
       "  <thead>\n",
       "    <tr style=\"text-align: right;\">\n",
       "      <th></th>\n",
       "      <th>train-auc-mean</th>\n",
       "      <th>train-auc-std</th>\n",
       "      <th>test-auc-mean</th>\n",
       "      <th>test-auc-std</th>\n",
       "    </tr>\n",
       "  </thead>\n",
       "  <tbody>\n",
       "    <tr>\n",
       "      <th>0</th>\n",
       "      <td>0.622407</td>\n",
       "      <td>0.007919</td>\n",
       "      <td>0.602234</td>\n",
       "      <td>0.053406</td>\n",
       "    </tr>\n",
       "    <tr>\n",
       "      <th>1</th>\n",
       "      <td>0.622363</td>\n",
       "      <td>0.007922</td>\n",
       "      <td>0.602396</td>\n",
       "      <td>0.053267</td>\n",
       "    </tr>\n",
       "  </tbody>\n",
       "</table>\n",
       "</div>"
      ],
      "text/plain": [
       "   train-auc-mean  train-auc-std  test-auc-mean  test-auc-std\n",
       "0        0.622407       0.007919       0.602234      0.053406\n",
       "1        0.622363       0.007922       0.602396      0.053267"
      ]
     },
     "execution_count": 232,
     "metadata": {},
     "output_type": "execute_result"
    }
   ],
   "source": [
    "xgb_best_params = {'alpha': 10, 'learning_rate': 0.01, 'max_depth': 5, 'objective': 'binary:logistic'}\n",
    "\n",
    "# Using xgboost without sklearn wrapper \n",
    "data_dmatrix = xgb.DMatrix(data=train_ufc, label=train_result, feature_names=feature_names)\n",
    "\n",
    "cv_results = xgb.cv(dtrain=data_dmatrix, params=xgb_best_params, nfold=8,\n",
    "                    num_boost_round=100, early_stopping_rounds=10,\n",
    "                    metrics=\"auc\", as_pandas=True, seed=1)\n",
    "\n",
    "cv_results.head()"
   ]
  },
  {
   "cell_type": "code",
   "execution_count": 230,
   "id": "8c442d88",
   "metadata": {},
   "outputs": [],
   "source": [
    "xgb_train = xgb.train(params=xgb_best_params, dtrain=data_dmatrix, num_boost_round=100)"
   ]
  },
  {
   "cell_type": "code",
   "execution_count": 231,
   "id": "152cb43a",
   "metadata": {},
   "outputs": [
    {
     "data": {
      "image/png": "[encoded data removed]",
      "text/plain": [
       "<Figure size 432x288 with 1 Axes>"
      ]
     },
     "metadata": {
      "needs_background": "light"
     },
     "output_type": "display_data"
    }
   ],
   "source": [
    "plot_importance(xgb_train)\n",
    "plt.show()"
   ]
  },
  {
   "cell_type": "code",
   "execution_count": 220,
   "id": "f6be1655",
   "metadata": {},
   "outputs": [
    {
     "name": "stdout",
     "output_type": "stream",
     "text": [
      "Mean Absolute Error: 0.49\n",
      "XGBClassifier score:  0.5127118644067796\n",
      "ROC AUC: 0.52\n"
     ]
    }
   ],
   "source": [
    "xgb_clf_predictions = xgb_clf.predict(test_ufc)\n",
    "xgb_clf_errors = abs(xgb_clf_predictions-test_result)\n",
    "roc_value = roc_auc_score(test_result, xgb_clf_predictions)\n",
    "\n",
    "print('Mean Absolute Error:', round(np.mean(xgb_clf_errors), 2))\n",
    "print(\"XGBClassifier score: \", xgb_clf.score(test_ufc, test_result))\n",
    "print('ROC AUC:', round(np.mean(roc_value), 2))"
   ]
  },
  {
   "cell_type": "code",
   "execution_count": 222,
   "id": "eb73e8f6",
   "metadata": {},
   "outputs": [
    {
     "name": "stdout",
     "output_type": "stream",
     "text": [
      "              precision    recall  f1-score   support\n",
      "\n",
      "           0       0.48      0.65      0.55       108\n",
      "           1       0.57      0.40      0.47       128\n",
      "\n",
      "    accuracy                           0.51       236\n",
      "   macro avg       0.52      0.52      0.51       236\n",
      "weighted avg       0.53      0.51      0.51       236\n",
      "\n"
     ]
    }
   ],
   "source": [
    "print(classification_report(test_result, xgb_clf_predictions))"
   ]
  },
  {
   "cell_type": "code",
   "execution_count": 225,
   "id": "87b36d08",
   "metadata": {},
   "outputs": [
    {
     "data": {
      "image/png": "[encoded data removed]",
      "text/plain": [
       "<Figure size 576x576 with 1 Axes>"
      ]
     },
     "metadata": {
      "needs_background": "light"
     },
     "output_type": "display_data"
    }
   ],
   "source": [
    "# Confusion matrix heat map for XGBClassifier\n",
    "cm_xgb = confusion_matrix(test_result, xgb_clf_predictions)\n",
    "\n",
    "fig, ax = plt.subplots(figsize=(8, 8))\n",
    "ax.imshow(cm_xgb)\n",
    "ax.grid(False)\n",
    "ax.set_title('XGBClassifier')\n",
    "ax.xaxis.set(ticks=(0, 1), ticklabels=('Predicted 0s', 'Predicted 1s'))\n",
    "ax.yaxis.set(ticks=(0, 1), ticklabels=('Actual 0s', 'Actual 1s'))\n",
    "ax.set_ylim(1.5, -0.5)\n",
    "for i in range(2):\n",
    "    for j in range(2):\n",
    "        ax.text(j, i, cm_xgb[i, j], ha='center', va='center', color='red')\n",
    "plt.show()"
   ]
  }
 ],
 "metadata": {
  "kernelspec": {
   "display_name": "Python 3 (ipykernel)",
   "language": "python",
   "name": "python3"
  },
  "language_info": {
   "codemirror_mode": {
    "name": "ipython",
    "version": 3
   },
   "file_extension": ".py",
   "mimetype": "text/x-python",
   "name": "python",
   "nbconvert_exporter": "python",
   "pygments_lexer": "ipython3",
   "version": "3.8.13"
  }
 },
 "nbformat": 4,
 "nbformat_minor": 5
}
